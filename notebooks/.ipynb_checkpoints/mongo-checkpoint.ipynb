{
 "cells": [
  {
   "cell_type": "code",
   "execution_count": 10,
   "id": "52170eac",
   "metadata": {},
   "outputs": [
    {
     "name": "stdout",
     "output_type": "stream",
     "text": [
      "Requirement already satisfied: pymongo in c:\\users\\user\\appdata\\local\\programs\\python\\python311\\lib\\site-packages (4.3.3)\n",
      "Requirement already satisfied: dnspython<3.0.0,>=1.16.0 in c:\\users\\user\\appdata\\local\\programs\\python\\python311\\lib\\site-packages (from pymongo) (2.3.0)\n"
     ]
    }
   ],
   "source": [
    "!pip install pymongo"
   ]
  },
  {
   "cell_type": "code",
   "execution_count": 11,
   "id": "632e4ab3",
   "metadata": {},
   "outputs": [],
   "source": [
    "from pymongo import MongoClient\n"
   ]
  },
  {
   "cell_type": "code",
   "execution_count": 12,
   "id": "507c514c",
   "metadata": {},
   "outputs": [],
   "source": [
    "client = MongoClient()"
   ]
  },
  {
   "cell_type": "code",
   "execution_count": 13,
   "id": "2bb8dd56",
   "metadata": {},
   "outputs": [],
   "source": [
    "client = MongoClient('localhost', 27017)"
   ]
  },
  {
   "cell_type": "code",
   "execution_count": 14,
   "id": "7bbca42d",
   "metadata": {},
   "outputs": [],
   "source": [
    "db = client['bigfivedatabase']"
   ]
  },
  {
   "cell_type": "code",
   "execution_count": 15,
   "id": "d05a43df",
   "metadata": {},
   "outputs": [],
   "source": [
    "collectionD = db['bigfivetable']"
   ]
  },
  {
   "cell_type": "code",
   "execution_count": 16,
   "id": "b722597e",
   "metadata": {},
   "outputs": [],
   "source": [
    "temp={}\n",
    "temp['EXT1']=1\n",
    "temp['EXT2']=3\n",
    "temp['EXT3']=2\n",
    "temp['EXT4']=3\n",
    "temp['EXT5']=4\n",
    "temp['EXT6']=2\n",
    "temp['EXT7']=2\n",
    "temp['EXT8']=1\n",
    "temp['EXT9']=3\n",
    "temp['EXT10']=1\n",
    "temp['EST1']=3\n",
    "temp['EST2']=2\n",
    "temp['EST3']=2\n",
    "temp['EST4']=2\n",
    "temp['EST5']=4\n",
    "temp['EST6']=1\n",
    "temp['EST7']=4\n",
    "temp['EST8']=0\n",
    "temp['EST9']=0\n",
    "temp['EST10']=2\n",
    "temp['AGR1']=2\n",
    "temp['AGR2']=1\n",
    "temp['AGR3']=2\n",
    "temp['AGR4']=1\n",
    "temp['AGR5']=3\n",
    "temp['AGR6']=1\n",
    "temp['AGR7']=3\n",
    "temp['AGR8']=4\n",
    "temp['AGR9']=2\n",
    "temp['AGR10']=0\n",
    "temp['CSN1']=1\n",
    "temp['CSN2']=3\n",
    "temp['CSN3']=2\n",
    "temp['CSN4']=3\n",
    "temp['CSN5']=0\n",
    "temp['CSN6']=4\n",
    "temp['CSN7']=4\n",
    "temp['CSN8']=3\n",
    "temp['CSN9']=2\n",
    "temp['CSN10']=1\n",
    "temp['OPN1']=1\n",
    "temp['OPN2']=2\n",
    "temp['OPN3']=3\n",
    "temp['OPN4']=4\n",
    "temp['OPN5']=0\n",
    "temp['OPN6']=4\n",
    "temp['OPN7']=2\n",
    "temp['OPN8']=1\n",
    "temp['OPN9']=2\n",
    "temp['OPN10']=3"
   ]
  },
  {
   "cell_type": "code",
   "execution_count": 17,
   "id": "c6ca985c",
   "metadata": {},
   "outputs": [
    {
     "data": {
      "text/plain": [
       "{'EXT1': 1,\n",
       " 'EXT2': 3,\n",
       " 'EXT3': 2,\n",
       " 'EXT4': 3,\n",
       " 'EXT5': 4,\n",
       " 'EXT6': 2,\n",
       " 'EXT7': 2,\n",
       " 'EXT8': 1,\n",
       " 'EXT9': 3,\n",
       " 'EXT10': 1,\n",
       " 'EST1': 3,\n",
       " 'EST2': 2,\n",
       " 'EST3': 2,\n",
       " 'EST4': 2,\n",
       " 'EST5': 4,\n",
       " 'EST6': 1,\n",
       " 'EST7': 4,\n",
       " 'EST8': 0,\n",
       " 'EST9': 0,\n",
       " 'EST10': 2,\n",
       " 'AGR1': 2,\n",
       " 'AGR2': 1,\n",
       " 'AGR3': 2,\n",
       " 'AGR4': 1,\n",
       " 'AGR5': 3,\n",
       " 'AGR6': 1,\n",
       " 'AGR7': 3,\n",
       " 'AGR8': 4,\n",
       " 'AGR9': 2,\n",
       " 'AGR10': 0,\n",
       " 'CSN1': 1,\n",
       " 'CSN2': 3,\n",
       " 'CSN3': 2,\n",
       " 'CSN4': 3,\n",
       " 'CSN5': 0,\n",
       " 'CSN6': 4,\n",
       " 'CSN7': 4,\n",
       " 'CSN8': 3,\n",
       " 'CSN9': 2,\n",
       " 'CSN10': 1,\n",
       " 'OPN1': 1,\n",
       " 'OPN2': 2,\n",
       " 'OPN3': 3,\n",
       " 'OPN4': 4,\n",
       " 'OPN5': 0,\n",
       " 'OPN6': 4,\n",
       " 'OPN7': 2,\n",
       " 'OPN8': 1,\n",
       " 'OPN9': 2,\n",
       " 'OPN10': 3}"
      ]
     },
     "execution_count": 17,
     "metadata": {},
     "output_type": "execute_result"
    }
   ],
   "source": [
    "temp"
   ]
  },
  {
   "cell_type": "code",
   "execution_count": 19,
   "id": "047e5e5c",
   "metadata": {},
   "outputs": [],
   "source": [
    "pp = collectionD.insert_one(temp)"
   ]
  },
  {
   "cell_type": "code",
   "execution_count": 20,
   "id": "a992a6d2",
   "metadata": {
    "scrolled": true
   },
   "outputs": [
    {
     "data": {
      "text/plain": [
       "True"
      ]
     },
     "execution_count": 20,
     "metadata": {},
     "output_type": "execute_result"
    }
   ],
   "source": [
    "pp.acknowledged"
   ]
  },
  {
   "cell_type": "code",
   "execution_count": 22,
   "id": "9cecc44b",
   "metadata": {},
   "outputs": [
    {
     "data": {
      "text/plain": [
       "['bigfivetable']"
      ]
     },
     "execution_count": 22,
     "metadata": {},
     "output_type": "execute_result"
    }
   ],
   "source": [
    "db.list_collection_names()"
   ]
  },
  {
   "cell_type": "code",
   "execution_count": 23,
   "id": "21af4b76",
   "metadata": {},
   "outputs": [
    {
     "data": {
      "text/plain": [
       "{'_id': ObjectId('63d8c68a703862c0a7f6258c'),\n",
       " 'EXT1': 1,\n",
       " 'EXT2': 3,\n",
       " 'EXT3': 2,\n",
       " 'EXT4': 3,\n",
       " 'EXT5': 4,\n",
       " 'EXT6': 2,\n",
       " 'EXT7': 2,\n",
       " 'EXT8': 1,\n",
       " 'EXT9': 3,\n",
       " 'EXT10': 1,\n",
       " 'EST1': 3,\n",
       " 'EST2': 2,\n",
       " 'EST3': 2,\n",
       " 'EST4': 2,\n",
       " 'EST5': 4,\n",
       " 'EST6': 1,\n",
       " 'EST7': 4,\n",
       " 'EST8': 0,\n",
       " 'EST9': 0,\n",
       " 'EST10': 2,\n",
       " 'AGR1': 2,\n",
       " 'AGR2': 1,\n",
       " 'AGR3': 2,\n",
       " 'AGR4': 1,\n",
       " 'AGR5': 3,\n",
       " 'AGR6': 1,\n",
       " 'AGR7': 3,\n",
       " 'AGR8': 4,\n",
       " 'AGR9': 2,\n",
       " 'AGR10': 0,\n",
       " 'CSN1': 1,\n",
       " 'CSN2': 3,\n",
       " 'CSN3': 2,\n",
       " 'CSN4': 3,\n",
       " 'CSN5': 0,\n",
       " 'CSN6': 4,\n",
       " 'CSN7': 4,\n",
       " 'CSN8': 3,\n",
       " 'CSN9': 2,\n",
       " 'CSN10': 1,\n",
       " 'OPN1': 1,\n",
       " 'OPN2': 2,\n",
       " 'OPN3': 3,\n",
       " 'OPN4': 4,\n",
       " 'OPN5': 0,\n",
       " 'OPN6': 4,\n",
       " 'OPN7': 2,\n",
       " 'OPN8': 1,\n",
       " 'OPN9': 2,\n",
       " 'OPN10': 3}"
      ]
     },
     "execution_count": 23,
     "metadata": {},
     "output_type": "execute_result"
    }
   ],
   "source": [
    "collectionD.find_one()"
   ]
  },
  {
   "cell_type": "code",
   "execution_count": null,
   "id": "ed68a677",
   "metadata": {},
   "outputs": [],
   "source": []
  }
 ],
 "metadata": {
  "kernelspec": {
   "display_name": "Python 3 (ipykernel)",
   "language": "python",
   "name": "python3"
  },
  "language_info": {
   "codemirror_mode": {
    "name": "ipython",
    "version": 3
   },
   "file_extension": ".py",
   "mimetype": "text/x-python",
   "name": "python",
   "nbconvert_exporter": "python",
   "pygments_lexer": "ipython3",
   "version": "3.11.1"
  }
 },
 "nbformat": 4,
 "nbformat_minor": 5
}
