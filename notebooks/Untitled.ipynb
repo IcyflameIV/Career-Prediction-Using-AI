{
 "cells": [
  {
   "cell_type": "code",
   "execution_count": 1,
   "id": "5124fa29",
   "metadata": {},
   "outputs": [],
   "source": [
    "import pandas as pd\n",
    "import numpy as np\n",
    "df = pd.read_csv(\"big_five.csv\", delimiter='\\t')"
   ]
  },
  {
   "cell_type": "code",
   "execution_count": 2,
   "id": "c0bbba7b",
   "metadata": {},
   "outputs": [
    {
     "name": "stdout",
     "output_type": "stream",
     "text": [
      "EXT1\n",
      "EXT2\n",
      "EXT3\n",
      "EXT4\n",
      "EXT5\n",
      "EXT6\n",
      "EXT7\n",
      "EXT8\n",
      "EXT9\n",
      "EXT10\n",
      "EST1\n",
      "EST2\n",
      "EST3\n",
      "EST4\n",
      "EST5\n",
      "EST6\n",
      "EST7\n",
      "EST8\n",
      "EST9\n",
      "EST10\n",
      "AGR1\n",
      "AGR2\n",
      "AGR3\n",
      "AGR4\n",
      "AGR5\n",
      "AGR6\n",
      "AGR7\n",
      "AGR8\n",
      "AGR9\n",
      "AGR10\n",
      "CSN1\n",
      "CSN2\n",
      "CSN3\n",
      "CSN4\n",
      "CSN5\n",
      "CSN6\n",
      "CSN7\n",
      "CSN8\n",
      "CSN9\n",
      "CSN10\n",
      "OPN1\n",
      "OPN2\n",
      "OPN3\n",
      "OPN4\n",
      "OPN5\n",
      "OPN6\n",
      "OPN7\n",
      "OPN8\n",
      "OPN9\n",
      "OPN10\n",
      "EXT1_E\n",
      "EXT2_E\n",
      "EXT3_E\n",
      "EXT4_E\n",
      "EXT5_E\n",
      "EXT6_E\n",
      "EXT7_E\n",
      "EXT8_E\n",
      "EXT9_E\n",
      "EXT10_E\n",
      "EST1_E\n",
      "EST2_E\n",
      "EST3_E\n",
      "EST4_E\n",
      "EST5_E\n",
      "EST6_E\n",
      "EST7_E\n",
      "EST8_E\n",
      "EST9_E\n",
      "EST10_E\n",
      "AGR1_E\n",
      "AGR2_E\n",
      "AGR3_E\n",
      "AGR4_E\n",
      "AGR5_E\n",
      "AGR6_E\n",
      "AGR7_E\n",
      "AGR8_E\n",
      "AGR9_E\n",
      "AGR10_E\n",
      "CSN1_E\n",
      "CSN2_E\n",
      "CSN3_E\n",
      "CSN4_E\n",
      "CSN5_E\n",
      "CSN6_E\n",
      "CSN7_E\n",
      "CSN8_E\n",
      "CSN9_E\n",
      "CSN10_E\n",
      "OPN1_E\n",
      "OPN2_E\n",
      "OPN3_E\n",
      "OPN4_E\n",
      "OPN5_E\n",
      "OPN6_E\n",
      "OPN7_E\n",
      "OPN8_E\n",
      "OPN9_E\n",
      "OPN10_E\n",
      "dateload\n",
      "screenw\n",
      "screenh\n",
      "introelapse\n",
      "testelapse\n",
      "endelapse\n",
      "IPC\n",
      "country\n",
      "lat_appx_lots_of_err\n",
      "long_appx_lots_of_err\n"
     ]
    }
   ],
   "source": [
    "columns = df.columns\n",
    "for column in columns:\n",
    "    print(column)"
   ]
  },
  {
   "cell_type": "code",
   "execution_count": 3,
   "id": "e5e971ef",
   "metadata": {},
   "outputs": [],
   "source": [
    "X = df[df.columns[0:50]] "
   ]
  },
  {
   "cell_type": "code",
   "execution_count": 4,
   "id": "ea1636b3",
   "metadata": {},
   "outputs": [
    {
     "data": {
      "text/html": [
       "<div>\n",
       "<style scoped>\n",
       "    .dataframe tbody tr th:only-of-type {\n",
       "        vertical-align: middle;\n",
       "    }\n",
       "\n",
       "    .dataframe tbody tr th {\n",
       "        vertical-align: top;\n",
       "    }\n",
       "\n",
       "    .dataframe thead th {\n",
       "        text-align: right;\n",
       "    }\n",
       "</style>\n",
       "<table border=\"1\" class=\"dataframe\">\n",
       "  <thead>\n",
       "    <tr style=\"text-align: right;\">\n",
       "      <th></th>\n",
       "      <th>EXT1</th>\n",
       "      <th>EXT2</th>\n",
       "      <th>EXT3</th>\n",
       "      <th>EXT4</th>\n",
       "      <th>EXT5</th>\n",
       "      <th>EXT6</th>\n",
       "      <th>EXT7</th>\n",
       "      <th>EXT8</th>\n",
       "      <th>EXT9</th>\n",
       "      <th>EXT10</th>\n",
       "      <th>...</th>\n",
       "      <th>OPN1</th>\n",
       "      <th>OPN2</th>\n",
       "      <th>OPN3</th>\n",
       "      <th>OPN4</th>\n",
       "      <th>OPN5</th>\n",
       "      <th>OPN6</th>\n",
       "      <th>OPN7</th>\n",
       "      <th>OPN8</th>\n",
       "      <th>OPN9</th>\n",
       "      <th>OPN10</th>\n",
       "    </tr>\n",
       "  </thead>\n",
       "  <tbody>\n",
       "    <tr>\n",
       "      <th>0</th>\n",
       "      <td>4.0</td>\n",
       "      <td>1.0</td>\n",
       "      <td>5.0</td>\n",
       "      <td>2.0</td>\n",
       "      <td>5.0</td>\n",
       "      <td>1.0</td>\n",
       "      <td>5.0</td>\n",
       "      <td>2.0</td>\n",
       "      <td>4.0</td>\n",
       "      <td>1.0</td>\n",
       "      <td>...</td>\n",
       "      <td>5.0</td>\n",
       "      <td>1.0</td>\n",
       "      <td>4.0</td>\n",
       "      <td>1.0</td>\n",
       "      <td>4.0</td>\n",
       "      <td>1.0</td>\n",
       "      <td>5.0</td>\n",
       "      <td>3.0</td>\n",
       "      <td>4.0</td>\n",
       "      <td>5.0</td>\n",
       "    </tr>\n",
       "    <tr>\n",
       "      <th>1</th>\n",
       "      <td>3.0</td>\n",
       "      <td>5.0</td>\n",
       "      <td>3.0</td>\n",
       "      <td>4.0</td>\n",
       "      <td>3.0</td>\n",
       "      <td>3.0</td>\n",
       "      <td>2.0</td>\n",
       "      <td>5.0</td>\n",
       "      <td>1.0</td>\n",
       "      <td>5.0</td>\n",
       "      <td>...</td>\n",
       "      <td>1.0</td>\n",
       "      <td>2.0</td>\n",
       "      <td>4.0</td>\n",
       "      <td>2.0</td>\n",
       "      <td>3.0</td>\n",
       "      <td>1.0</td>\n",
       "      <td>4.0</td>\n",
       "      <td>2.0</td>\n",
       "      <td>5.0</td>\n",
       "      <td>3.0</td>\n",
       "    </tr>\n",
       "    <tr>\n",
       "      <th>2</th>\n",
       "      <td>2.0</td>\n",
       "      <td>3.0</td>\n",
       "      <td>4.0</td>\n",
       "      <td>4.0</td>\n",
       "      <td>3.0</td>\n",
       "      <td>2.0</td>\n",
       "      <td>1.0</td>\n",
       "      <td>3.0</td>\n",
       "      <td>2.0</td>\n",
       "      <td>5.0</td>\n",
       "      <td>...</td>\n",
       "      <td>5.0</td>\n",
       "      <td>1.0</td>\n",
       "      <td>2.0</td>\n",
       "      <td>1.0</td>\n",
       "      <td>4.0</td>\n",
       "      <td>2.0</td>\n",
       "      <td>5.0</td>\n",
       "      <td>3.0</td>\n",
       "      <td>4.0</td>\n",
       "      <td>4.0</td>\n",
       "    </tr>\n",
       "    <tr>\n",
       "      <th>3</th>\n",
       "      <td>2.0</td>\n",
       "      <td>2.0</td>\n",
       "      <td>2.0</td>\n",
       "      <td>3.0</td>\n",
       "      <td>4.0</td>\n",
       "      <td>2.0</td>\n",
       "      <td>2.0</td>\n",
       "      <td>4.0</td>\n",
       "      <td>1.0</td>\n",
       "      <td>4.0</td>\n",
       "      <td>...</td>\n",
       "      <td>4.0</td>\n",
       "      <td>2.0</td>\n",
       "      <td>5.0</td>\n",
       "      <td>2.0</td>\n",
       "      <td>3.0</td>\n",
       "      <td>1.0</td>\n",
       "      <td>4.0</td>\n",
       "      <td>4.0</td>\n",
       "      <td>3.0</td>\n",
       "      <td>3.0</td>\n",
       "    </tr>\n",
       "    <tr>\n",
       "      <th>4</th>\n",
       "      <td>3.0</td>\n",
       "      <td>3.0</td>\n",
       "      <td>3.0</td>\n",
       "      <td>3.0</td>\n",
       "      <td>5.0</td>\n",
       "      <td>3.0</td>\n",
       "      <td>3.0</td>\n",
       "      <td>5.0</td>\n",
       "      <td>3.0</td>\n",
       "      <td>4.0</td>\n",
       "      <td>...</td>\n",
       "      <td>5.0</td>\n",
       "      <td>1.0</td>\n",
       "      <td>5.0</td>\n",
       "      <td>1.0</td>\n",
       "      <td>5.0</td>\n",
       "      <td>1.0</td>\n",
       "      <td>5.0</td>\n",
       "      <td>3.0</td>\n",
       "      <td>5.0</td>\n",
       "      <td>5.0</td>\n",
       "    </tr>\n",
       "  </tbody>\n",
       "</table>\n",
       "<p>5 rows × 50 columns</p>\n",
       "</div>"
      ],
      "text/plain": [
       "   EXT1  EXT2  EXT3  EXT4  EXT5  EXT6  EXT7  EXT8  EXT9  EXT10  ...  OPN1  \\\n",
       "0   4.0   1.0   5.0   2.0   5.0   1.0   5.0   2.0   4.0    1.0  ...   5.0   \n",
       "1   3.0   5.0   3.0   4.0   3.0   3.0   2.0   5.0   1.0    5.0  ...   1.0   \n",
       "2   2.0   3.0   4.0   4.0   3.0   2.0   1.0   3.0   2.0    5.0  ...   5.0   \n",
       "3   2.0   2.0   2.0   3.0   4.0   2.0   2.0   4.0   1.0    4.0  ...   4.0   \n",
       "4   3.0   3.0   3.0   3.0   5.0   3.0   3.0   5.0   3.0    4.0  ...   5.0   \n",
       "\n",
       "   OPN2  OPN3  OPN4  OPN5  OPN6  OPN7  OPN8  OPN9  OPN10  \n",
       "0   1.0   4.0   1.0   4.0   1.0   5.0   3.0   4.0    5.0  \n",
       "1   2.0   4.0   2.0   3.0   1.0   4.0   2.0   5.0    3.0  \n",
       "2   1.0   2.0   1.0   4.0   2.0   5.0   3.0   4.0    4.0  \n",
       "3   2.0   5.0   2.0   3.0   1.0   4.0   4.0   3.0    3.0  \n",
       "4   1.0   5.0   1.0   5.0   1.0   5.0   3.0   5.0    5.0  \n",
       "\n",
       "[5 rows x 50 columns]"
      ]
     },
     "execution_count": 4,
     "metadata": {},
     "output_type": "execute_result"
    }
   ],
   "source": [
    "X.head(5)\n"
   ]
  },
  {
   "cell_type": "code",
   "execution_count": 5,
   "id": "c34bf028",
   "metadata": {},
   "outputs": [
    {
     "name": "stdout",
     "output_type": "stream",
     "text": [
      "89150\n"
     ]
    }
   ],
   "source": [
    "print(X.isnull().values.sum())\n"
   ]
  },
  {
   "cell_type": "code",
   "execution_count": 6,
   "id": "77e421f8",
   "metadata": {},
   "outputs": [
    {
     "data": {
      "text/plain": [
       "True"
      ]
     },
     "execution_count": 6,
     "metadata": {},
     "output_type": "execute_result"
    }
   ],
   "source": [
    "X.isnull().values.any()"
   ]
  },
  {
   "cell_type": "code",
   "execution_count": 7,
   "id": "9b88922c",
   "metadata": {},
   "outputs": [
    {
     "data": {
      "text/plain": [
       "EXT1     1783\n",
       "EXT2     1783\n",
       "EXT3     1783\n",
       "EXT4     1783\n",
       "EXT5     1783\n",
       "EXT6     1783\n",
       "EXT7     1783\n",
       "EXT8     1783\n",
       "EXT9     1783\n",
       "EXT10    1783\n",
       "EST1     1783\n",
       "EST2     1783\n",
       "EST3     1783\n",
       "EST4     1783\n",
       "EST5     1783\n",
       "EST6     1783\n",
       "EST7     1783\n",
       "EST8     1783\n",
       "EST9     1783\n",
       "EST10    1783\n",
       "AGR1     1783\n",
       "AGR2     1783\n",
       "AGR3     1783\n",
       "AGR4     1783\n",
       "AGR5     1783\n",
       "AGR6     1783\n",
       "AGR7     1783\n",
       "AGR8     1783\n",
       "AGR9     1783\n",
       "AGR10    1783\n",
       "CSN1     1783\n",
       "CSN2     1783\n",
       "CSN3     1783\n",
       "CSN4     1783\n",
       "CSN5     1783\n",
       "CSN6     1783\n",
       "CSN7     1783\n",
       "CSN8     1783\n",
       "CSN9     1783\n",
       "CSN10    1783\n",
       "OPN1     1783\n",
       "OPN2     1783\n",
       "OPN3     1783\n",
       "OPN4     1783\n",
       "OPN5     1783\n",
       "OPN6     1783\n",
       "OPN7     1783\n",
       "OPN8     1783\n",
       "OPN9     1783\n",
       "OPN10    1783\n",
       "dtype: int64"
      ]
     },
     "execution_count": 7,
     "metadata": {},
     "output_type": "execute_result"
    }
   ],
   "source": [
    "X.isnull().sum()"
   ]
  },
  {
   "cell_type": "code",
   "execution_count": 8,
   "id": "2a2e6db4",
   "metadata": {},
   "outputs": [
    {
     "data": {
      "text/plain": [
       "89150"
      ]
     },
     "execution_count": 8,
     "metadata": {},
     "output_type": "execute_result"
    }
   ],
   "source": [
    "X.isnull().sum().sum()"
   ]
  },
  {
   "cell_type": "code",
   "execution_count": 9,
   "id": "4f5ee3db",
   "metadata": {},
   "outputs": [
    {
     "data": {
      "text/plain": [
       "0"
      ]
     },
     "execution_count": 9,
     "metadata": {},
     "output_type": "execute_result"
    }
   ],
   "source": [
    "X = X.fillna(0)\n",
    "X.isnull().values.sum()"
   ]
  },
  {
   "cell_type": "code",
   "execution_count": 10,
   "id": "93acbd77",
   "metadata": {},
   "outputs": [],
   "source": [
    "import matplotlib.pyplot as plt\n",
    "#import kmeans\n",
    "from sklearn.cluster import KMeans\n",
    "\n",
    "#import kmeans objects\n",
    "kmeans = KMeans(n_clusters=5);\n",
    "\n",
    "#fit kmeans object to dataset\n",
    "k_fit = kmeans.fit(X);   "
   ]
  },
  {
   "cell_type": "code",
   "execution_count": 11,
   "id": "99668c1b",
   "metadata": {},
   "outputs": [],
   "source": [
    "pd.options.display.max_columns = 50;\n",
    "predictions = k_fit.labels_\n",
    "X['Clusters'] = predictions;"
   ]
  },
  {
   "cell_type": "code",
   "execution_count": 12,
   "id": "e1e6f5ac",
   "metadata": {},
   "outputs": [
    {
     "name": "stdout",
     "output_type": "stream",
     "text": [
      "         EXT1  EXT2  EXT3  EXT4  EXT5  EXT6  EXT7  EXT8  EXT9  EXT10  EST1  \\\n",
      "0         4.0   1.0   5.0   2.0   5.0   1.0   5.0   2.0   4.0    1.0   1.0   \n",
      "1         3.0   5.0   3.0   4.0   3.0   3.0   2.0   5.0   1.0    5.0   2.0   \n",
      "2         2.0   3.0   4.0   4.0   3.0   2.0   1.0   3.0   2.0    5.0   4.0   \n",
      "3         2.0   2.0   2.0   3.0   4.0   2.0   2.0   4.0   1.0    4.0   3.0   \n",
      "4         3.0   3.0   3.0   3.0   5.0   3.0   3.0   5.0   3.0    4.0   1.0   \n",
      "...       ...   ...   ...   ...   ...   ...   ...   ...   ...    ...   ...   \n",
      "1015336   4.0   2.0   4.0   3.0   4.0   3.0   3.0   3.0   3.0    3.0   4.0   \n",
      "1015337   4.0   3.0   4.0   3.0   3.0   3.0   4.0   4.0   3.0    3.0   4.0   \n",
      "1015338   4.0   2.0   4.0   3.0   5.0   1.0   4.0   2.0   4.0    4.0   3.0   \n",
      "1015339   2.0   4.0   3.0   4.0   2.0   2.0   1.0   4.0   2.0    4.0   4.0   \n",
      "1015340   4.0   2.0   4.0   2.0   4.0   1.0   4.0   2.0   4.0    4.0   4.0   \n",
      "\n",
      "         EST2  EST3  EST4  EST5  EST6  EST7  EST8  EST9  EST10  AGR1  AGR2  \\\n",
      "0         4.0   4.0   2.0   2.0   2.0   2.0   2.0   3.0    2.0   2.0   5.0   \n",
      "1         3.0   4.0   1.0   3.0   1.0   2.0   1.0   3.0    1.0   1.0   4.0   \n",
      "2         4.0   4.0   2.0   2.0   2.0   2.0   2.0   1.0    3.0   1.0   4.0   \n",
      "3         3.0   3.0   2.0   3.0   2.0   2.0   2.0   4.0    3.0   2.0   4.0   \n",
      "4         5.0   5.0   3.0   1.0   1.0   1.0   1.0   3.0    2.0   1.0   5.0   \n",
      "...       ...   ...   ...   ...   ...   ...   ...   ...    ...   ...   ...   \n",
      "1015336   3.0   3.0   3.0   4.0   3.0   4.0   3.0   3.0    3.0   5.0   4.0   \n",
      "1015337   3.0   5.0   1.0   5.0   5.0   4.0   4.0   4.0    5.0   2.0   4.0   \n",
      "1015338   2.0   4.0   3.0   2.0   2.0   4.0   2.0   4.0    1.0   3.0   5.0   \n",
      "1015339   3.0   4.0   2.0   4.0   4.0   2.0   2.0   4.0    4.0   2.0   3.0   \n",
      "1015340   3.0   4.0   3.0   2.0   3.0   3.0   1.0   4.0    2.0   1.0   5.0   \n",
      "\n",
      "         AGR3  AGR4  AGR5  AGR6  AGR7  AGR8  AGR9  AGR10  CSN1  CSN2  CSN3  \\\n",
      "0         2.0   4.0   2.0   3.0   2.0   4.0   3.0    4.0   3.0   4.0   3.0   \n",
      "1         1.0   5.0   1.0   5.0   3.0   4.0   5.0    3.0   3.0   2.0   5.0   \n",
      "2         1.0   4.0   2.0   4.0   1.0   4.0   4.0    3.0   4.0   2.0   2.0   \n",
      "3         3.0   4.0   2.0   4.0   2.0   4.0   3.0    4.0   2.0   4.0   4.0   \n",
      "4         1.0   5.0   1.0   3.0   1.0   5.0   5.0    3.0   5.0   1.0   5.0   \n",
      "...       ...   ...   ...   ...   ...   ...   ...    ...   ...   ...   ...   \n",
      "1015336   2.0   5.0   2.0   4.0   2.0   4.0   4.0    4.0   2.0   3.0   3.0   \n",
      "1015337   1.0   4.0   3.0   5.0   3.0   3.0   5.0    3.0   3.0   2.0   3.0   \n",
      "1015338   5.0   3.0   2.0   3.0   2.0   4.0   3.0    5.0   4.0   5.0   3.0   \n",
      "1015339   2.0   4.0   3.0   4.0   2.0   4.0   4.0    3.0   4.0   2.0   4.0   \n",
      "1015340   2.0   4.0   3.0   5.0   2.0   3.0   4.0    5.0   3.0   4.0   3.0   \n",
      "\n",
      "         CSN4  CSN5  CSN6  CSN7  CSN8  CSN9  CSN10  OPN1  OPN2  OPN3  OPN4  \\\n",
      "0         2.0   2.0   4.0   4.0   2.0   4.0    4.0   5.0   1.0   4.0   1.0   \n",
      "1         3.0   3.0   1.0   3.0   3.0   5.0    3.0   1.0   2.0   4.0   2.0   \n",
      "2         2.0   3.0   3.0   4.0   2.0   4.0    2.0   5.0   1.0   2.0   1.0   \n",
      "3         4.0   1.0   2.0   2.0   3.0   1.0    4.0   4.0   2.0   5.0   2.0   \n",
      "4         1.0   3.0   1.0   5.0   1.0   5.0    5.0   5.0   1.0   5.0   1.0   \n",
      "...       ...   ...   ...   ...   ...   ...    ...   ...   ...   ...   ...   \n",
      "1015336   3.0   4.0   4.0   4.0   2.0   3.0    3.0   2.0   2.0   4.0   3.0   \n",
      "1015337   4.0   3.0   3.0   2.0   3.0   2.0    3.0   4.0   1.0   5.0   1.0   \n",
      "1015338   5.0   1.0   5.0   1.0   4.0   1.0    4.0   5.0   1.0   5.0   1.0   \n",
      "1015339   2.0   2.0   2.0   4.0   2.0   4.0    4.0   5.0   2.0   4.0   2.0   \n",
      "1015340   3.0   2.0   3.0   3.0   2.0   2.0    3.0   5.0   1.0   5.0   1.0   \n",
      "\n",
      "         OPN5  OPN6  OPN7  OPN8  OPN9  OPN10  \n",
      "0         4.0   1.0   5.0   3.0   4.0    5.0  \n",
      "1         3.0   1.0   4.0   2.0   5.0    3.0  \n",
      "2         4.0   2.0   5.0   3.0   4.0    4.0  \n",
      "3         3.0   1.0   4.0   4.0   3.0    3.0  \n",
      "4         5.0   1.0   5.0   3.0   5.0    5.0  \n",
      "...       ...   ...   ...   ...   ...    ...  \n",
      "1015336   4.0   2.0   4.0   2.0   2.0    4.0  \n",
      "1015337   5.0   1.0   3.0   4.0   5.0    4.0  \n",
      "1015338   4.0   1.0   5.0   5.0   4.0    5.0  \n",
      "1015339   3.0   2.0   4.0   5.0   5.0    3.0  \n",
      "1015340   3.0   1.0   5.0   4.0   5.0    5.0  \n",
      "\n",
      "[1015341 rows x 50 columns]\n",
      "         Clusters\n",
      "0               3\n",
      "1               4\n",
      "2               4\n",
      "3               4\n",
      "4               3\n",
      "...           ...\n",
      "1015336         2\n",
      "1015337         2\n",
      "1015338         2\n",
      "1015339         1\n",
      "1015340         2\n",
      "\n",
      "[1015341 rows x 1 columns]\n"
     ]
    }
   ],
   "source": [
    "x = X.iloc[:, 0:50] \n",
    "print(x) \n",
    "y = X.iloc[:, 50:51]  \n",
    "print(y)"
   ]
  },
  {
   "cell_type": "code",
   "execution_count": 13,
   "id": "2644f578",
   "metadata": {},
   "outputs": [],
   "source": [
    "from sklearn.model_selection import train_test_split\n",
    "\n",
    "# Split dataset into training set and test set\n",
    "X_train, X_test, y_train, y_test = train_test_split(x, y, test_size= 0.2,)"
   ]
  },
  {
   "cell_type": "code",
   "execution_count": 14,
   "id": "5f4063f4",
   "metadata": {},
   "outputs": [
    {
     "name": "stderr",
     "output_type": "stream",
     "text": [
      "C:\\Users\\a22\\AppData\\Local\\Temp\\ipykernel_9020\\3068871099.py:7: DataConversionWarning: A column-vector y was passed when a 1d array was expected. Please change the shape of y to (n_samples,), for example using ravel().\n",
      "  clf.fit(X_train,y_train)\n"
     ]
    }
   ],
   "source": [
    "from sklearn.ensemble import RandomForestClassifier\n",
    "\n",
    "#Create a Gaussian Classifier\n",
    "clf=RandomForestClassifier(n_estimators=100)\n",
    "\n",
    "#Train the model using the training sets y_pred=clf.predict(X_test)\n",
    "clf.fit(X_train,y_train)\n",
    "\n",
    "y_pred=clf.predict(X_test)"
   ]
  },
  {
   "cell_type": "code",
   "execution_count": 15,
   "id": "b8554f0d",
   "metadata": {},
   "outputs": [
    {
     "name": "stdout",
     "output_type": "stream",
     "text": [
      "Accuracy: 0.911719661789835\n"
     ]
    }
   ],
   "source": [
    "#Import scikit-learn metrics module for accuracy calculation\n",
    "from sklearn import metrics\n",
    "\n",
    "\n",
    "# Model Accuracy\n",
    "print(\"Accuracy:\",metrics.accuracy_score(y_test, y_pred))"
   ]
  },
  {
   "cell_type": "code",
   "execution_count": 16,
   "id": "f62db417",
   "metadata": {},
   "outputs": [],
   "source": [
    "from joblib import dump\n"
   ]
  },
  {
   "cell_type": "code",
   "execution_count": null,
   "id": "f4573449",
   "metadata": {},
   "outputs": [],
   "source": [
    "dump(clf,'./../savedModels/model.joblib')"
   ]
  },
  {
   "cell_type": "code",
   "execution_count": null,
   "id": "1b5c4c81",
   "metadata": {},
   "outputs": [],
   "source": []
  }
 ],
 "metadata": {
  "kernelspec": {
   "display_name": "Python 3 (ipykernel)",
   "language": "python",
   "name": "python3"
  },
  "language_info": {
   "codemirror_mode": {
    "name": "ipython",
    "version": 3
   },
   "file_extension": ".py",
   "mimetype": "text/x-python",
   "name": "python",
   "nbconvert_exporter": "python",
   "pygments_lexer": "ipython3",
   "version": "3.9.12"
  }
 },
 "nbformat": 4,
 "nbformat_minor": 5
}
